{
  "cells": [
    {
      "cell_type": "code",
      "execution_count": 2,
      "metadata": {
        "id": "FyL3WNCLj9hR"
      },
      "outputs": [],
      "source": [
        "import tensorflow as tf\n",
        "from tensorflow import keras\n",
        "import matplotlib.pyplot as plt"
      ]
    },
    {
      "cell_type": "code",
      "execution_count": 3,
      "metadata": {
        "colab": {
          "base_uri": "https://localhost:8080/",
          "height": 0
        },
        "id": "EmTjQ5ULj9hW",
        "outputId": "574a74cc-f976-409b-daec-e80c74905704"
      },
      "outputs": [
        {
          "output_type": "stream",
          "name": "stdout",
          "text": [
            "Downloading data from https://storage.googleapis.com/tensorflow/tf-keras-datasets/mnist.npz\n",
            "11493376/11490434 [==============================] - 0s 0us/step\n",
            "11501568/11490434 [==============================] - 0s 0us/step\n"
          ]
        }
      ],
      "source": [
        "(train_data, train_labels), (test_data, test_labels) = tf.keras.datasets.mnist.load_data()"
      ]
    },
    {
      "cell_type": "code",
      "execution_count": 4,
      "metadata": {
        "colab": {
          "base_uri": "https://localhost:8080/",
          "height": 0
        },
        "id": "-nW9nmS0j9hX",
        "outputId": "8e91590d-0310-48b3-f5d5-365201313b18"
      },
      "outputs": [
        {
          "output_type": "stream",
          "name": "stdout",
          "text": [
            "(60000, 28, 28)\n"
          ]
        }
      ],
      "source": [
        "print(train_data.shape)"
      ]
    },
    {
      "cell_type": "code",
      "execution_count": 5,
      "metadata": {
        "id": "jBeuMGCkj9hY"
      },
      "outputs": [],
      "source": [
        "train_data = tf.pad(train_data, [[0, 0], [2, 2], [2, 2]]) / 255"
      ]
    },
    {
      "cell_type": "code",
      "execution_count": 6,
      "metadata": {
        "colab": {
          "base_uri": "https://localhost:8080/",
          "height": 0
        },
        "id": "G7odUQnZj9hZ",
        "outputId": "d7cb6a55-667f-44f2-dcd5-725fe6199bac"
      },
      "outputs": [
        {
          "output_type": "stream",
          "name": "stdout",
          "text": [
            "60000\n"
          ]
        }
      ],
      "source": [
        "print(train_data.shape[0])"
      ]
    },
    {
      "cell_type": "code",
      "execution_count": 7,
      "metadata": {
        "id": "9Bul99Thj9hZ"
      },
      "outputs": [],
      "source": [
        "test_data = tf.pad(test_data, [[0, 0], [2, 2], [2, 2]]) / 255"
      ]
    },
    {
      "cell_type": "code",
      "execution_count": 8,
      "metadata": {
        "colab": {
          "base_uri": "https://localhost:8080/",
          "height": 0
        },
        "id": "px5Dv2eHj9ha",
        "outputId": "a164d316-fcc8-48f8-9170-742b0ef8c423"
      },
      "outputs": [
        {
          "output_type": "stream",
          "name": "stdout",
          "text": [
            "(60000, 32, 32, 1) (10000, 32, 32, 1)\n"
          ]
        }
      ],
      "source": [
        "train_data = tf.expand_dims(train_data, 3)\n",
        "test_data = tf.expand_dims(test_data, 3)\n",
        "print(train_data.shape, test_data.shape)"
      ]
    },
    {
      "cell_type": "code",
      "execution_count": 9,
      "metadata": {
        "id": "mnIeXA7Jj9hb"
      },
      "outputs": [],
      "source": [
        "x_val = train_data[:2000,:,:,:]\n",
        "y_val = train_labels[:2000]\n",
        "x_train = train_data[2000:,:,:,:]\n",
        "y_train = train_labels[2000:]"
      ]
    },
    {
      "cell_type": "code",
      "execution_count": 10,
      "metadata": {
        "id": "ajmli908j9hb"
      },
      "outputs": [],
      "source": [
        "# Le-Net\n",
        "model = keras.Sequential()\n",
        "model.add(keras.layers.Conv2D(filters=6, kernel_size=5, activation='tanh', input_shape=x_train.shape[1:]))\n",
        "model.add(keras.layers.AveragePooling2D(2))       # 14 * 14\n",
        "model.add(keras.layers.Conv2D(filters=16, kernel_size=5, activation='tanh'))      # 10 * 10\n",
        "model.add(keras.layers.AveragePooling2D(2))      # 5 * 5\n",
        "model.add(keras.layers.Conv2D(filters=120, kernel_size=5, activation='tanh'))     # 1 * 1\n",
        "model.add(keras.layers.Flatten())\n",
        "model.add(keras.layers.Dense(84, activation='tanh'))\n",
        "model.add(keras.layers.Dense(10, activation='softmax'))"
      ]
    },
    {
      "cell_type": "code",
      "execution_count": 11,
      "metadata": {
        "colab": {
          "base_uri": "https://localhost:8080/",
          "height": 0
        },
        "id": "1bt6ZZmYj9hc",
        "outputId": "7f4a4d6b-9fd5-42d8-cacf-bc42b5b42dcb"
      },
      "outputs": [
        {
          "output_type": "stream",
          "name": "stdout",
          "text": [
            "Model: \"sequential\"\n",
            "_________________________________________________________________\n",
            " Layer (type)                Output Shape              Param #   \n",
            "=================================================================\n",
            " conv2d (Conv2D)             (None, 28, 28, 6)         156       \n",
            "                                                                 \n",
            " average_pooling2d (AverageP  (None, 14, 14, 6)        0         \n",
            " ooling2D)                                                       \n",
            "                                                                 \n",
            " conv2d_1 (Conv2D)           (None, 10, 10, 16)        2416      \n",
            "                                                                 \n",
            " average_pooling2d_1 (Averag  (None, 5, 5, 16)         0         \n",
            " ePooling2D)                                                     \n",
            "                                                                 \n",
            " conv2d_2 (Conv2D)           (None, 1, 1, 120)         48120     \n",
            "                                                                 \n",
            " flatten (Flatten)           (None, 120)               0         \n",
            "                                                                 \n",
            " dense (Dense)               (None, 84)                10164     \n",
            "                                                                 \n",
            " dense_1 (Dense)             (None, 10)                850       \n",
            "                                                                 \n",
            "=================================================================\n",
            "Total params: 61,706\n",
            "Trainable params: 61,706\n",
            "Non-trainable params: 0\n",
            "_________________________________________________________________\n"
          ]
        }
      ],
      "source": [
        "model.summary()"
      ]
    },
    {
      "cell_type": "code",
      "execution_count": 12,
      "metadata": {
        "id": "4aEh7q9pj9hd"
      },
      "outputs": [],
      "source": [
        "model.compile(optimizer='adam', loss=\"sparse_categorical_crossentropy\", metrics=[\"accuracy\"])"
      ]
    },
    {
      "cell_type": "code",
      "execution_count": 13,
      "metadata": {
        "colab": {
          "base_uri": "https://localhost:8080/",
          "height": 0
        },
        "id": "dvyIb_1zj9hd",
        "outputId": "d40c0de8-69a6-41c9-9db0-8c2b66ddf175"
      },
      "outputs": [
        {
          "output_type": "stream",
          "name": "stdout",
          "text": [
            "Epoch 1/20\n",
            "1813/1813 [==============================] - 19s 5ms/step - loss: 0.2316 - accuracy: 0.9295 - val_loss: 0.1137 - val_accuracy: 0.9680\n",
            "Epoch 2/20\n",
            "1813/1813 [==============================] - 9s 5ms/step - loss: 0.0817 - accuracy: 0.9751 - val_loss: 0.0775 - val_accuracy: 0.9780\n",
            "Epoch 3/20\n",
            "1813/1813 [==============================] - 9s 5ms/step - loss: 0.0564 - accuracy: 0.9828 - val_loss: 0.0820 - val_accuracy: 0.9780\n",
            "Epoch 4/20\n",
            "1813/1813 [==============================] - 9s 5ms/step - loss: 0.0439 - accuracy: 0.9864 - val_loss: 0.0752 - val_accuracy: 0.9795\n",
            "Epoch 5/20\n",
            "1813/1813 [==============================] - 9s 5ms/step - loss: 0.0335 - accuracy: 0.9891 - val_loss: 0.0690 - val_accuracy: 0.9830\n",
            "Epoch 6/20\n",
            "1813/1813 [==============================] - 9s 5ms/step - loss: 0.0273 - accuracy: 0.9912 - val_loss: 0.0569 - val_accuracy: 0.9840\n",
            "Epoch 7/20\n",
            "1813/1813 [==============================] - 9s 5ms/step - loss: 0.0240 - accuracy: 0.9922 - val_loss: 0.0585 - val_accuracy: 0.9815\n",
            "Epoch 8/20\n",
            "1813/1813 [==============================] - 9s 5ms/step - loss: 0.0205 - accuracy: 0.9928 - val_loss: 0.0618 - val_accuracy: 0.9840\n",
            "Epoch 9/20\n",
            "1813/1813 [==============================] - 9s 5ms/step - loss: 0.0170 - accuracy: 0.9943 - val_loss: 0.0681 - val_accuracy: 0.9830\n",
            "Epoch 10/20\n",
            "1813/1813 [==============================] - 9s 5ms/step - loss: 0.0162 - accuracy: 0.9948 - val_loss: 0.0556 - val_accuracy: 0.9840\n",
            "Epoch 11/20\n",
            "1813/1813 [==============================] - 9s 5ms/step - loss: 0.0134 - accuracy: 0.9958 - val_loss: 0.0608 - val_accuracy: 0.9820\n",
            "Epoch 12/20\n",
            "1813/1813 [==============================] - 9s 5ms/step - loss: 0.0133 - accuracy: 0.9956 - val_loss: 0.0647 - val_accuracy: 0.9845\n",
            "Epoch 13/20\n",
            "1813/1813 [==============================] - 9s 5ms/step - loss: 0.0116 - accuracy: 0.9961 - val_loss: 0.0586 - val_accuracy: 0.9850\n",
            "Epoch 14/20\n",
            "1813/1813 [==============================] - 9s 5ms/step - loss: 0.0102 - accuracy: 0.9967 - val_loss: 0.0680 - val_accuracy: 0.9835\n",
            "Epoch 15/20\n",
            "1813/1813 [==============================] - 9s 5ms/step - loss: 0.0100 - accuracy: 0.9966 - val_loss: 0.0610 - val_accuracy: 0.9855\n",
            "Epoch 16/20\n",
            "1813/1813 [==============================] - 9s 5ms/step - loss: 0.0087 - accuracy: 0.9971 - val_loss: 0.0692 - val_accuracy: 0.9805\n",
            "Epoch 17/20\n",
            "1813/1813 [==============================] - 9s 5ms/step - loss: 0.0091 - accuracy: 0.9968 - val_loss: 0.0642 - val_accuracy: 0.9845\n",
            "Epoch 18/20\n",
            "1813/1813 [==============================] - 9s 5ms/step - loss: 0.0080 - accuracy: 0.9973 - val_loss: 0.0719 - val_accuracy: 0.9825\n",
            "Epoch 19/20\n",
            "1813/1813 [==============================] - 9s 5ms/step - loss: 0.0079 - accuracy: 0.9975 - val_loss: 0.0699 - val_accuracy: 0.9830\n",
            "Epoch 20/20\n",
            "1813/1813 [==============================] - 9s 5ms/step - loss: 0.0086 - accuracy: 0.9971 - val_loss: 0.0756 - val_accuracy: 0.9840\n"
          ]
        }
      ],
      "source": [
        "history = model.fit(x_train, y_train, epochs=20, validation_data=(x_val, y_val))"
      ]
    }
  ],
  "metadata": {
    "interpreter": {
      "hash": "b65d1bd44b1984909d4786d87cd249812df6170d2cfdad27020db32b22a12972"
    },
    "kernelspec": {
      "display_name": "Python 3.7.6 ('tf')",
      "language": "python",
      "name": "python3"
    },
    "language_info": {
      "codemirror_mode": {
        "name": "ipython",
        "version": 3
      },
      "file_extension": ".py",
      "mimetype": "text/x-python",
      "name": "python",
      "nbconvert_exporter": "python",
      "pygments_lexer": "ipython3",
      "version": "3.7.6"
    },
    "orig_nbformat": 4,
    "colab": {
      "name": "LeNet.ipynb",
      "provenance": []
    },
    "accelerator": "GPU"
  },
  "nbformat": 4,
  "nbformat_minor": 0
}